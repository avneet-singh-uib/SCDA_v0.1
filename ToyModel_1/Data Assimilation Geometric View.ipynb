{
 "cells": [
  {
   "cell_type": "markdown",
   "metadata": {},
   "source": [
    "# Geometric approach to Data Assimilation\n",
    "\n",
    "Write the cost function for 4D-Var, assuming background error covariance matrix $\\mathbf{B}$ = 0 for simplicity.\n",
    "\n",
    "$$\\mathcal{J}(\\mathbf{x}) = \\,\\Delta\\mathbf{x}^\\mathrm{T}\\mathbf{\\,Q}^{-1}\\Delta\\mathbf{x} + \\Delta\\mathbf{\\,y}^\\mathrm{T}\\mathbf{\\,R}^{-1}\\Delta\\mathbf{y}$$ \n",
    "\n",
    "where\n",
    "\n",
    "$\\Delta\\mathbf{x}\\in \\mathbb{R}^{\\mathrm{M}},\\;\\Delta\\mathbf{y}\\in \\mathbb{R}^{\\mathrm{N}}\\;,\\mathbf{x}\\in \\mathbb{R}^{\\mathrm{M}},\\;\\mathbf{y}\\in \\mathbb{R}^{\\mathrm{N}},\\; \\mathbf{\\,Q}^{-1} \\in \\mathbb{R}^{\\mathrm{M}\\times\\mathrm{M}},\\;\\mathbf{R}^{-1} \\in \\mathbb{R}^{\\mathrm{N}\\times\\mathrm{N}},\\;\\mathbf{\\Delta y} = \\mathbf{y}_k - \\mathbf{H\\,x}_k$ and $\\mathbf{\\Delta x} = \\mathbf{x}_k - \\mathcal{M}_{k:k-1}\\mathbf{x}_{k-1}$. In geometric sense, $\\mathbf{x}$ captures the dynamic mapping of the state variable in time such that \n",
    "\n",
    "$$\\mathbf{\\Delta x} = \\mathbf{x}_k - \\mathcal{M}_{k:k-1}\\mathbf{x}_{k-1} \\equiv \\vec{x}(t) - \\mathcal{M}(t,\\delta t)\\,\\vec{x}(t - \\delta t).$$\n",
    "\n"
   ]
  },
  {
   "cell_type": "code",
   "execution_count": null,
   "metadata": {},
   "outputs": [],
   "source": []
  }
 ],
 "metadata": {
  "kernelspec": {
   "display_name": "Python 3",
   "language": "python",
   "name": "python3"
  },
  "language_info": {
   "codemirror_mode": {
    "name": "ipython",
    "version": 3
   },
   "file_extension": ".py",
   "mimetype": "text/x-python",
   "name": "python",
   "nbconvert_exporter": "python",
   "pygments_lexer": "ipython3",
   "version": "3.7.1"
  }
 },
 "nbformat": 4,
 "nbformat_minor": 2
}

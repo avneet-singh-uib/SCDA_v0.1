{
 "cells": [
  {
   "cell_type": "markdown",
   "metadata": {},
   "source": [
    "# Geometric approach to Data Assimilation\n",
    "\n",
    "Write the cost function for 4D-Var, assuming background error covariance matrix $\\mathbf{B}$ = 0 for simplicity.\n",
    "\n",
    "$$\\mathcal{J}(\\mathbf{x}) = \\,\\Delta\\mathbf{x}^\\mathrm{T}\\mathbf{\\,Q}^{-1}\\Delta\\mathbf{x} + \\Delta\\mathbf{\\,y}^\\mathrm{T}\\mathbf{\\,R}^{-1}\\Delta\\mathbf{y}$$ \n",
    "\n",
    "where\n",
    "\n",
    "$\\Delta\\mathbf{x}\\in \\mathbb{R}^{\\mathrm{M}},\\;\\Delta\\mathbf{y}\\in \\mathbb{R}^{\\mathrm{N}}\\;,\\mathbf{x}\\in \\mathbb{R}^{\\mathrm{M}},\\;\\mathbf{y}\\in \\mathbb{R}^{\\mathrm{N}},\\; \\mathbf{\\,Q}^{-1} \\in \\mathbb{R}^{\\mathrm{M}\\times\\mathrm{M}},\\;\\mathbf{R}^{-1} \\in \\mathbb{R}^{\\mathrm{N}\\times\\mathrm{N}},\\;\\mathbf{\\Delta y} = \\mathbf{y}_k - \\mathbf{H\\,x}_k$ and $\\mathbf{\\Delta x} = \\mathbf{x}_k - \\mathcal{M}_{k:k-1}\\mathbf{x}_{k-1}$. In geometric sense, $\\mathbf{x}$ captures the dynamic mapping of the state variable in time such that \n",
    "\n",
    "$$\\mathbf{\\Delta x} = \\mathbf{x}_k - \\mathcal{M}_{k:k-1}\\mathbf{x}_{k-1} \\equiv \\vec{x}(t) - \\mathcal{M}(t,\\delta t)\\,\\vec{x}(t - \\delta t).$$\n",
    "\n"
   ]
  },
  {
   "cell_type": "markdown",
   "metadata": {},
   "source": [
    "## Lyapunov Spectrum\n",
    "\n",
    "$$\\Lambda = \\frac{1}{2}\\lim_{\\;t\\,\\gg\\,t_\\mathsf{o}}\\frac{1}{|t - t_\\mathsf{o}|}\\mathrm{log}_\\mathcal{e}\\big|\\mathbb{M}^\\mathrm{T}\\mathbb{M}\\big|$$\n",
    "\n",
    "$$x_t  = \\mathcal{M}_{t:t-1} \\cdot x_{t-1} + \\epsilon$$\n",
    "\n",
    "$\\Delta\\mathsf{T}(t) = \\mathbb{M}[t,\\Delta\\mathsf{T}(t_\\mathsf{o})]\\,\\Delta\\mathsf{T}(t_\\mathsf{o})$\n",
    "\n",
    "$\\mathcal{M}_{t:t-1} \\equiv \\mathbb{M}[t,\\Delta\\mathsf{T}(t_\\mathsf{o})]$\n",
    "\n",
    "$$\\lim_{\\;t\\,\\gg\\,t_\\mathsf{o}}\\mathrm{log}_\\mathcal{e}\\Bigg[\\frac{||\\mathcal{M}_{t:t_\\mathsf{o}}\\cdot\\Delta\\mathsf{T}(t_\\mathsf{o})||}{||\\Delta\\mathsf{T}(t_\\mathsf{o})||}\\Bigg]^{{1}/{2|t - t_\\mathsf{o}|}}$$\n",
    "\n",
    "$\\Lambda \\rightarrow \\mathrm{log}_\\mathcal{e}\\sum_{k}e^{\\mathsf{L}_k}$ where $\\mathsf{L}_k$ = eig(C) < 0 $\\forall$ $k$\n",
    "\n",
    "\n",
    "$\\langle\\mathsf{T_O,T_A}\\rangle \\equiv \\langle\\mathsf{T_O}(t),\\mathsf{T_A}(t + \\tau)\\rangle = \\int_{-\\infty}^{+\\infty} \\mathsf{T_O}(t)\\,\\mathsf{T_A}(t + \\tau)\\,\\mathrm{d}t$\n",
    "\n",
    "'$\\langle\\rangle$' denotes (co)variance \n",
    "\n",
    "$\\mathsf{N}_e$ = 25, \n",
    "\n",
    "$\\sigma_{\\mathsf{O},o}$ = 1.0, \n",
    "\n",
    "$\\sigma_{\\mathsf{A},o}$ = 2.0, \n",
    "\n",
    "spin up = 100 steps, \n",
    "\n",
    "$\\mathsf{T_O = T_A}$ = 0.0, \n",
    "\n",
    "$\\sigma_{\\mathsf{O},f}$ = 1.0, \n",
    "\n",
    "$\\sigma_{\\mathsf{A},f}$ = 2.0.\n",
    "\n",
    "Cross-localisation ~ 0.1"
   ]
  },
  {
   "cell_type": "code",
   "execution_count": 9,
   "metadata": {},
   "outputs": [
    {
     "ename": "NameError",
     "evalue": "name 'ticks' is not defined",
     "output_type": "error",
     "traceback": [
      "\u001b[0;31m---------------------------------------------------------------------------\u001b[0m",
      "\u001b[0;31mNameError\u001b[0m                                 Traceback (most recent call last)",
      "\u001b[0;32m<ipython-input-9-a1478aee8f80>\u001b[0m in \u001b[0;36m<module>\u001b[0;34m\u001b[0m\n\u001b[1;32m     25\u001b[0m \u001b[0mplt\u001b[0m\u001b[0;34m.\u001b[0m\u001b[0mplot\u001b[0m\u001b[0;34m(\u001b[0m\u001b[0mfr\u001b[0m\u001b[0;34m,\u001b[0m \u001b[0ma\u001b[0m\u001b[0;34m,\u001b[0m \u001b[0mc\u001b[0m\u001b[0;34m=\u001b[0m\u001b[0;34m'b'\u001b[0m\u001b[0;34m,\u001b[0m \u001b[0mlinewidth\u001b[0m\u001b[0;34m=\u001b[0m\u001b[0;36m1.\u001b[0m\u001b[0;34m)\u001b[0m\u001b[0;34m\u001b[0m\u001b[0;34m\u001b[0m\u001b[0m\n\u001b[1;32m     26\u001b[0m \u001b[0mplt\u001b[0m\u001b[0;34m.\u001b[0m\u001b[0mplot\u001b[0m\u001b[0;34m(\u001b[0m\u001b[0mfr\u001b[0m\u001b[0;34m,\u001b[0m \u001b[0mb\u001b[0m\u001b[0;34m,\u001b[0m \u001b[0mc\u001b[0m\u001b[0;34m=\u001b[0m\u001b[0;34m'r'\u001b[0m\u001b[0;34m,\u001b[0m \u001b[0mlinewidth\u001b[0m\u001b[0;34m=\u001b[0m\u001b[0;36m1.\u001b[0m\u001b[0;34m)\u001b[0m\u001b[0;34m\u001b[0m\u001b[0;34m\u001b[0m\u001b[0m\n\u001b[0;32m---> 27\u001b[0;31m \u001b[0max\u001b[0m \u001b[0;34m=\u001b[0m \u001b[0mgca\u001b[0m\u001b[0;34m(\u001b[0m\u001b[0;34m)\u001b[0m\u001b[0;34m;\u001b[0m \u001b[0mticks\u001b[0m\u001b[0;34m(\u001b[0m\u001b[0max\u001b[0m\u001b[0;34m,\u001b[0m\u001b[0;36m12\u001b[0m\u001b[0;34m)\u001b[0m\u001b[0;34m;\u001b[0m \u001b[0mplt\u001b[0m\u001b[0;34m.\u001b[0m\u001b[0mgrid\u001b[0m\u001b[0;34m(\u001b[0m\u001b[0mlinewidth\u001b[0m\u001b[0;34m=\u001b[0m\u001b[0;36m0.5\u001b[0m\u001b[0;34m)\u001b[0m\u001b[0;34m;\u001b[0m\u001b[0;34m\u001b[0m\u001b[0;34m\u001b[0m\u001b[0m\n\u001b[0m\u001b[1;32m     28\u001b[0m \u001b[0max\u001b[0m\u001b[0;34m.\u001b[0m\u001b[0mautoscale\u001b[0m\u001b[0;34m(\u001b[0m\u001b[0menable\u001b[0m\u001b[0;34m=\u001b[0m\u001b[0;32mTrue\u001b[0m\u001b[0;34m,\u001b[0m \u001b[0maxis\u001b[0m\u001b[0;34m=\u001b[0m\u001b[0;34m'x'\u001b[0m\u001b[0;34m,\u001b[0m \u001b[0mtight\u001b[0m\u001b[0;34m=\u001b[0m\u001b[0;32mTrue\u001b[0m\u001b[0;34m)\u001b[0m\u001b[0;34m;\u001b[0m\u001b[0;34m\u001b[0m\u001b[0;34m\u001b[0m\u001b[0m\n\u001b[1;32m     29\u001b[0m \u001b[0mplt\u001b[0m\u001b[0;34m.\u001b[0m\u001b[0mxlabel\u001b[0m\u001b[0;34m(\u001b[0m\u001b[0;34mr'Frequency $\\rightarrow$'\u001b[0m\u001b[0;34m,\u001b[0m\u001b[0mfontproperties\u001b[0m\u001b[0;34m=\u001b[0m\u001b[0mfont\u001b[0m\u001b[0;34m,\u001b[0m\u001b[0mfontsize\u001b[0m\u001b[0;34m=\u001b[0m\u001b[0;36m12\u001b[0m\u001b[0;34m)\u001b[0m\u001b[0;34m;\u001b[0m\u001b[0;34m\u001b[0m\u001b[0;34m\u001b[0m\u001b[0m\n",
      "\u001b[0;31mNameError\u001b[0m: name 'ticks' is not defined"
     ]
    },
    {
     "data": {
      "image/png": "[encoded data removed]",
      "text/plain": [
       "<Figure size 1000x200 with 1 Axes>"
      ]
     },
     "metadata": {
      "needs_background": "light"
     },
     "output_type": "display_data"
    }
   ],
   "source": [
    "import cmath \n",
    "import numpy as np\n",
    "import math as mt\n",
    "from scipy.integrate import odeint\n",
    "import matplotlib.pyplot as plt\n",
    "from matplotlib.pyplot import gca\n",
    "\n",
    "#fourier space\n",
    "crosssec = 0.1\n",
    "fr = np.arange(0.0001,10.0,0.0001)\n",
    "i  = complex(0,1)\n",
    "gamma = crosssec**2\n",
    "a = []; b = []\n",
    "\n",
    "m = 10; Coo = -0.1; Coa = 0.1; Cao = 0.01; Caa = -0.1\n",
    "C = np.array([[Coo, Coa], [Cao, Caa]])\n",
    "\n",
    "for f in fr:\n",
    "    D = (2*mt.pi*i*f - Caa)*(2*mt.pi*i*m*f - Coo) - Coa * Cao \n",
    "    a.append(abs(gamma*(Coa/D)))\n",
    "    b.append(abs(gamma*((2*mt.pi*i*m*f - Coo)/D)))\n",
    "\n",
    "%matplotlib inline\n",
    "plt.figure(figsize=(10,2),dpi=100);\n",
    "plt.plot(fr, a, c='b', linewidth=1.)\n",
    "plt.plot(fr, b, c='r', linewidth=1.)\n",
    "ax = gca(); ticks(ax,12); plt.grid(linewidth=0.5); \n",
    "ax.autoscale(enable=True, axis='x', tight=True);\n",
    "plt.xlabel(r'Frequency $\\rightarrow$',fontproperties=font,fontsize=12);\n",
    "plt.ylabel('Power',fontproperties=font,fontsize=12);\n",
    "l1 = ax.legend(['Ocean','Atmosphere'], loc='best', ncol=1)\n",
    "plt.setp(l1.texts, family='SF Mono', fontsize=12);\n",
    "ax.set_yscale('log'); ax.set_xscale('log')\n",
    "ax.grid(b=True, which='minor', linewidth=0.10, linestyle='--')"
   ]
  },
  {
   "cell_type": "raw",
   "metadata": {},
   "source": []
  },
  {
   "cell_type": "raw",
   "metadata": {},
   "source": [
    "from numpy import linalg as la\n",
    "from scipy import linalg\n",
    "import nolds\n",
    "\n",
    "C = np.array([[Coo, Coa], [Cao, Caa]])\n",
    "\n",
    "F_bac = 0.5 * np.log(np.abs(np.matmul(C, (C.T))))\n",
    "F_for = 0.5 * np.log(np.abs(np.matmul((C.T), C)))\n",
    "\n",
    "e_val_bac, e_vec_bac = la.eig(F_bac)\n",
    "e_val_for, e_vec_for = la.eig(F_for)\n",
    "\n",
    "#print(e_val_bac, e_vec_bac)\n",
    "#print(e_val_for, e_vec_for)\n",
    "\n",
    "e_val, e_vec = la.eig(C)\n",
    "\n",
    "#print(e_val)"
   ]
  },
  {
   "cell_type": "raw",
   "metadata": {},
   "source": [
    "A = np.array([[1.0, 7.397361e-2, 8.436622e-2, 0.01318143, 0.0417633], \n",
    "[ 1.1, 7.366164e-2, 8.239375e-2, 0.01185483, 0.0397836],\n",
    "[ 1.2, 7.342961e-2, 8.061343e-2, 0.01074244, 0.0380472],\n",
    "[ 1.3, 7.325525e-2, 7.898640e-2, 0.00979775, 0.0365096],\n",
    "[ 1.5, 7.302301e-2, 7.609335e-2, 0.00828370, 0.0339026],\n",
    "[ 2.0, 7.278928e-2, 7.027964e-2, 0.00583800, 0.0291986],\n",
    "[ 4.0, 7.285706e-2, 5.568862e-2, 0.00235394, 0.0205425],\n",
    "[ 8.0, 7.311593e-2, 3.936817e-2, 0.00086494, 0.0149960],\n",
    "[16.0, 7.335210e-2, 2.231616e-2, 0.00028533, 0.0117863],\n",
    "[30.0, 7.349915e-2, 1.004728e-2, 9.3921e-05, 0.0103423],\n",
    "[50.0, 7.356894e-2, 4.345257e-2, 3.5401e-05, 0.0098236]])\n",
    "\n",
    "plt.figure(figsize=(10,3),dpi=100);\n",
    "plt.subplot(2,2,1);\n",
    "plt.plot(A[:,0], A[:,1], marker='.', c = 'b'); ax = gca();\n",
    "ax.set_ylabel(r'$\\mathregular{O_{RMSE}}$',fontproperties=font,fontsize=10); \n",
    "ax.set_xlabel('inflation',fontproperties=font,fontsize=10);\n",
    "ticks(ax,8); plt.grid(linewidth=0.5);\n",
    "plt.subplot(2,2,2);\n",
    "plt.plot(A[:,0], A[:,2], marker='.', c = 'r'); ax = gca();\n",
    "ax.set_ylabel(r'$\\mathregular{A_{RMSE}}$',fontproperties=font,fontsize=10); \n",
    "ax.set_xlabel('inflation',fontproperties=font,fontsize=10);\n",
    "ticks(ax,8); plt.grid(linewidth=0.5);\n",
    "plt.subplot(2,2,3);\n",
    "plt.plot(A[:,0], np.divide(A[:,1], A[:,3]), marker='.', c = 'b', linestyle='--'); ax = gca();\n",
    "ax.set_ylabel(r'$\\mathregular{O_{RMSE}/\\sigma}$',fontproperties=font,fontsize=10); \n",
    "ax.set_xlabel('inflation',fontproperties=font,fontsize=10);\n",
    "ticks(ax,8); plt.grid(linewidth=0.5);\n",
    "plt.subplot(2,2,4);\n",
    "plt.plot(A[:,0], np.divide(A[:,2], A[:,4]), marker='.', c = 'r', linestyle='--'); ax = gca();\n",
    "ax.set_ylabel(r'$\\mathregular{A_{RMSE}/\\sigma}$',fontproperties=font,fontsize=10); \n",
    "ax.set_xlabel('inflation',fontproperties=font,fontsize=10);\n",
    "ticks(ax,8); plt.grid(linewidth=0.5); \n",
    "plt.show()"
   ]
  }
 ],
 "metadata": {
  "kernelspec": {
   "display_name": "Python 3",
   "language": "python",
   "name": "python3"
  },
  "language_info": {
   "codemirror_mode": {
    "name": "ipython",
    "version": 3
   },
   "file_extension": ".py",
   "mimetype": "text/x-python",
   "name": "python",
   "nbconvert_exporter": "python",
   "pygments_lexer": "ipython3",
   "version": "3.7.1"
  }
 },
 "nbformat": 4,
 "nbformat_minor": 2
}

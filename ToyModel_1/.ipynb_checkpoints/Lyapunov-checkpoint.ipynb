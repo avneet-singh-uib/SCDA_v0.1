{
 "cells": [
  {
   "cell_type": "markdown",
   "metadata": {},
   "source": [
    "# Fourier space: \n",
    "\n",
    "Taking the fourier transform of the coupled set of ODEs:\n",
    "\n",
    "\n",
    "$$\\displaystyle2\\pi i\\mathsf{m} f\\,\\hat{\\mathsf{T}}_\\mathsf{A}(f) = \\mathrm{C}_\\mathsf{AA}\\hat{\\mathsf{T}}_\\mathsf{O}(f) + \\mathrm{C}_\\mathsf{OA}\\hat{\\mathsf{T}}_\\mathsf{A}(f),$$\n",
    "\n",
    "$$\\displaystyle 2\\pi i f\\,\\hat{\\mathsf{T}}_\\mathsf{A}(f) = \\mathrm{C}_\\mathsf{AO}\\hat{\\mathsf{T}}_\\mathsf{O}(f) + \\mathrm{C}_\\mathsf{AA}\\hat{\\mathsf{T}}_\\mathsf{A}(f) + \\hat{\\mathsf{F}}(f).$$\n",
    "\n",
    "where, for white noise $\\hat{\\mathsf{F}}(f) = \\gamma$ is a constant. Solving the set of equations in fourier space yields:\n",
    "\n",
    "$$\\hat{\\mathsf{T}}_\\mathsf{O}(f)=\\gamma\\frac{\\mathrm{C}_\\mathsf{OA}}{(2\\pi i f - \\mathrm{C}_\\mathsf{AA})(2\\pi i\\mathsf{m} f - \\mathrm{C}_\\mathsf{OO}) - \\mathrm{C}_\\mathsf{OA}\\mathrm{C}_\\mathsf{AO}}$$\n",
    "\n",
    "$$\\hat{\\mathsf{T}}_\\mathsf{A}(f)=\\gamma\\frac{2\\pi i\\mathsf{m} f - \\mathrm{C}_\\mathsf{OO}}{(2\\pi i f - \\mathrm{C}_\\mathsf{AA})(2\\pi i\\mathsf{m} f - \\mathrm{C}_\\mathsf{OO}) - \\mathrm{C}_\\mathsf{OA}\\mathrm{C}_\\mathsf{AO}}$$\n",
    "\n",
    "Furthermore, equating \n",
    "\n",
    "$$|\\hat{\\mathsf{T}}_\\mathsf{O}(f)|^2=|\\hat{\\mathsf{T}}_\\mathsf{A}(f)|^2 \\rightarrow 0$$\n",
    "and\n",
    "$$|\\hat{\\mathsf{T}}_\\mathsf{O}(f)|^2=|\\hat{\\mathsf{T}}_\\mathsf{A}(f)|^2 \\rightarrow \\infty$$\n",
    "\n",
    "gives the singular points in the fourier space. In particular, the $\\infty$ is interesting.\n",
    "\n",
    "**Kalman Gain**\n",
    "\n",
    "Similarly the fourier transform of the Kalman Gain expression\n",
    "\n",
    "$$\\mathsf{K} = \\frac{\\langle\\mathsf{T_O}(t)\\,\\overline{\\mathsf{T_A}(t_1,t_2)}\\rangle}{\\langle\\overline{\\mathsf{T_A}(t_1,t_2)}\\rangle + \\displaystyle\\frac{\\sigma_{\\mathsf{A},\\mathit{o}}^2}{\\tau}}$$\n",
    "\n",
    "yields\n",
    "\n",
    "$$\\hat{\\mathsf{K}}(f) = \\frac{\\hat{\\mathsf{T}}_\\mathsf{O}(f)}{2\\pi i f \\bigg[ [\\mathcal{S}(f)]^2 + \\displaystyle\\frac{\\sigma_{\\mathsf{A},\\mathit{o}}^2}{\\tau} \\bigg]} \\mathcal{S}(f)$$\n",
    "\n",
    "where, $\\mathcal{S}(f) = \\langle \\mathcal{Sinc}(\\pi f \\tau)\\, e^{-2\\pi i f t_1} , \\hat{\\mathsf{T}}_\\mathsf{A}(f)\\rangle^2$. \n",
    "\n"
   ]
  },
  {
   "cell_type": "code",
   "execution_count": null,
   "metadata": {},
   "outputs": [],
   "source": []
  }
 ],
 "metadata": {
  "kernelspec": {
   "display_name": "Python 3",
   "language": "python",
   "name": "python3"
  },
  "language_info": {
   "codemirror_mode": {
    "name": "ipython",
    "version": 3
   },
   "file_extension": ".py",
   "mimetype": "text/x-python",
   "name": "python",
   "nbconvert_exporter": "python",
   "pygments_lexer": "ipython3",
   "version": "3.7.1"
  }
 },
 "nbformat": 4,
 "nbformat_minor": 2
}
